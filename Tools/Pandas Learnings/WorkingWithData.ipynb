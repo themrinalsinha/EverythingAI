{
 "cells": [
  {
   "cell_type": "markdown",
   "id": "ed427303-7878-42cc-9c53-80b13a7777a5",
   "metadata": {},
   "source": [
    "## Selecting specific data with loc, iloc, at, iat"
   ]
  },
  {
   "cell_type": "code",
   "execution_count": 6,
   "id": "6fe71e73-fe2a-447f-9f94-76540900c821",
   "metadata": {},
   "outputs": [
    {
     "data": {
      "text/html": [
       "<div>\n",
       "<style scoped>\n",
       "    .dataframe tbody tr th:only-of-type {\n",
       "        vertical-align: middle;\n",
       "    }\n",
       "\n",
       "    .dataframe tbody tr th {\n",
       "        vertical-align: top;\n",
       "    }\n",
       "\n",
       "    .dataframe thead th {\n",
       "        text-align: right;\n",
       "    }\n",
       "</style>\n",
       "<table border=\"1\" class=\"dataframe\">\n",
       "  <thead>\n",
       "    <tr style=\"text-align: right;\">\n",
       "      <th></th>\n",
       "      <th>match_no</th>\n",
       "      <th>match_between</th>\n",
       "      <th>team_innings</th>\n",
       "      <th>batsman_name</th>\n",
       "      <th>batting_position</th>\n",
       "      <th>dismissal</th>\n",
       "      <th>runs</th>\n",
       "      <th>balls</th>\n",
       "      <th>4s</th>\n",
       "      <th>6s</th>\n",
       "      <th>strike_rate</th>\n",
       "    </tr>\n",
       "  </thead>\n",
       "  <tbody>\n",
       "    <tr>\n",
       "      <th>0</th>\n",
       "      <td>1</td>\n",
       "      <td>England vs New Zealand</td>\n",
       "      <td>England</td>\n",
       "      <td>Jonny Bairstow</td>\n",
       "      <td>1</td>\n",
       "      <td>c Daryl Mitchell b Mitchell Santner</td>\n",
       "      <td>33</td>\n",
       "      <td>35</td>\n",
       "      <td>4</td>\n",
       "      <td>1</td>\n",
       "      <td>94.300</td>\n",
       "    </tr>\n",
       "    <tr>\n",
       "      <th>1</th>\n",
       "      <td>1</td>\n",
       "      <td>England vs New Zealand</td>\n",
       "      <td>England</td>\n",
       "      <td>Dawid Malan</td>\n",
       "      <td>2</td>\n",
       "      <td>c Tom Latham b Matt Henry</td>\n",
       "      <td>14</td>\n",
       "      <td>24</td>\n",
       "      <td>2</td>\n",
       "      <td>0</td>\n",
       "      <td>58.300</td>\n",
       "    </tr>\n",
       "    <tr>\n",
       "      <th>2</th>\n",
       "      <td>1</td>\n",
       "      <td>England vs New Zealand</td>\n",
       "      <td>England</td>\n",
       "      <td>Joe Root</td>\n",
       "      <td>3</td>\n",
       "      <td>b Glenn Phillips</td>\n",
       "      <td>77</td>\n",
       "      <td>86</td>\n",
       "      <td>4</td>\n",
       "      <td>1</td>\n",
       "      <td>89.500</td>\n",
       "    </tr>\n",
       "    <tr>\n",
       "      <th>3</th>\n",
       "      <td>1</td>\n",
       "      <td>England vs New Zealand</td>\n",
       "      <td>England</td>\n",
       "      <td>Harry Brook</td>\n",
       "      <td>4</td>\n",
       "      <td>c Devon Conway b Rachin Ravindra</td>\n",
       "      <td>25</td>\n",
       "      <td>16</td>\n",
       "      <td>4</td>\n",
       "      <td>1</td>\n",
       "      <td>156.300</td>\n",
       "    </tr>\n",
       "    <tr>\n",
       "      <th>4</th>\n",
       "      <td>1</td>\n",
       "      <td>England vs New Zealand</td>\n",
       "      <td>England</td>\n",
       "      <td>Moeen Ali</td>\n",
       "      <td>5</td>\n",
       "      <td>b Glenn Phillips</td>\n",
       "      <td>11</td>\n",
       "      <td>17</td>\n",
       "      <td>1</td>\n",
       "      <td>0</td>\n",
       "      <td>64.700</td>\n",
       "    </tr>\n",
       "  </tbody>\n",
       "</table>\n",
       "</div>"
      ],
      "text/plain": [
       "   match_no           match_between team_innings    batsman_name  \\\n",
       "0         1  England vs New Zealand      England  Jonny Bairstow   \n",
       "1         1  England vs New Zealand      England     Dawid Malan   \n",
       "2         1  England vs New Zealand      England        Joe Root   \n",
       "3         1  England vs New Zealand      England     Harry Brook   \n",
       "4         1  England vs New Zealand      England       Moeen Ali   \n",
       "\n",
       "   batting_position                            dismissal  runs  balls  4s  6s  \\\n",
       "0                 1  c Daryl Mitchell b Mitchell Santner    33     35   4   1   \n",
       "1                 2            c Tom Latham b Matt Henry    14     24   2   0   \n",
       "2                 3                     b Glenn Phillips    77     86   4   1   \n",
       "3                 4     c Devon Conway b Rachin Ravindra    25     16   4   1   \n",
       "4                 5                     b Glenn Phillips    11     17   1   0   \n",
       "\n",
       "  strike_rate  \n",
       "0      94.300  \n",
       "1      58.300  \n",
       "2      89.500  \n",
       "3     156.300  \n",
       "4      64.700  "
      ]
     },
     "execution_count": 6,
     "metadata": {},
     "output_type": "execute_result"
    }
   ],
   "source": [
    "import numpy as np\n",
    "import pandas as pd\n",
    "\n",
    "CSV_SAMPLE_FILE = \"datasets/ODI_WC_2023_batting_summary.csv\"\n",
    "df = pd.read_csv(CSV_SAMPLE_FILE)\n",
    "\n",
    "df.rename(lambda x: x.lower(), axis='columns', inplace=True)\n",
    "df.head()"
   ]
  },
  {
   "cell_type": "markdown",
   "id": "83f7f07b-3e7b-4d5a-9807-a4f9723d4825",
   "metadata": {},
   "source": [
    "#### Pandas offers 4 primary methods to select items:\n",
    "1. **Dot notations**: select a single column\n",
    "2. **loc**: select based on column names and index names\n",
    "3. **iloc**: select based on the column number and row number\n",
    "4. **iat**: select one item only based on column and row number"
   ]
  },
  {
   "cell_type": "code",
   "execution_count": 9,
   "id": "83bb452f-33a6-4b99-a9ff-c8db111c3e69",
   "metadata": {},
   "outputs": [
    {
     "data": {
      "text/plain": [
       "0    Jonny Bairstow\n",
       "1       Dawid Malan\n",
       "2          Joe Root\n",
       "3       Harry Brook\n",
       "4         Moeen Ali\n",
       "Name: batsman_name, dtype: object"
      ]
     },
     "execution_count": 9,
     "metadata": {},
     "output_type": "execute_result"
    }
   ],
   "source": [
    "# 1. Dot Notations: Select one column only as reference.\n",
    "df.batsman_name.head()"
   ]
  },
  {
   "cell_type": "code",
   "execution_count": 12,
   "id": "ccac319d-c406-48a5-b705-617289bdd748",
   "metadata": {},
   "outputs": [
    {
     "data": {
      "text/plain": [
       "0    Jonny Bairstow\n",
       "1       Dawid Malan\n",
       "2          Joe Root\n",
       "3       Harry Brook\n",
       "4         Moeen Ali\n",
       "Name: batsman_name, dtype: object"
      ]
     },
     "execution_count": 12,
     "metadata": {},
     "output_type": "execute_result"
    }
   ],
   "source": [
    "# 2. using .loc example\n",
    "# .loc takes 2 arguments inside the square brackets. one for index names (row names) an another for column names.\n",
    "\n",
    "# without .loc \n",
    "df['batsman_name'].head()"
   ]
  },
  {
   "cell_type": "code",
   "execution_count": 13,
   "id": "d9bbf0f1-1d05-4fb0-b875-d8c7e73d78dd",
   "metadata": {},
   "outputs": [
    {
     "data": {
      "text/plain": [
       "0          Jonny Bairstow\n",
       "1             Dawid Malan\n",
       "2                Joe Root\n",
       "3             Harry Brook\n",
       "4               Moeen Ali\n",
       "              ...        \n",
       "911           Travis Head\n",
       "912        Mitchell Marsh\n",
       "913           Steve Smith\n",
       "914    Marnus Labuschagne\n",
       "915         Glenn Maxwell\n",
       "Name: batsman_name, Length: 916, dtype: object"
      ]
     },
     "execution_count": 13,
     "metadata": {},
     "output_type": "execute_result"
    }
   ],
   "source": [
    "# with .loc\n",
    "df.loc[:, 'batsman_name']"
   ]
  },
  {
   "cell_type": "code",
   "execution_count": 17,
   "id": "7f34c145-4823-4cf2-aa94-2f907487c9f6",
   "metadata": {},
   "outputs": [
    {
     "data": {
      "text/html": [
       "<div>\n",
       "<style scoped>\n",
       "    .dataframe tbody tr th:only-of-type {\n",
       "        vertical-align: middle;\n",
       "    }\n",
       "\n",
       "    .dataframe tbody tr th {\n",
       "        vertical-align: top;\n",
       "    }\n",
       "\n",
       "    .dataframe thead th {\n",
       "        text-align: right;\n",
       "    }\n",
       "</style>\n",
       "<table border=\"1\" class=\"dataframe\">\n",
       "  <thead>\n",
       "    <tr style=\"text-align: right;\">\n",
       "      <th></th>\n",
       "      <th>batsman_name</th>\n",
       "      <th>dismissal</th>\n",
       "    </tr>\n",
       "  </thead>\n",
       "  <tbody>\n",
       "    <tr>\n",
       "      <th>0</th>\n",
       "      <td>Jonny Bairstow</td>\n",
       "      <td>c Daryl Mitchell b Mitchell Santner</td>\n",
       "    </tr>\n",
       "    <tr>\n",
       "      <th>1</th>\n",
       "      <td>Dawid Malan</td>\n",
       "      <td>c Tom Latham b Matt Henry</td>\n",
       "    </tr>\n",
       "    <tr>\n",
       "      <th>2</th>\n",
       "      <td>Joe Root</td>\n",
       "      <td>b Glenn Phillips</td>\n",
       "    </tr>\n",
       "    <tr>\n",
       "      <th>3</th>\n",
       "      <td>Harry Brook</td>\n",
       "      <td>c Devon Conway b Rachin Ravindra</td>\n",
       "    </tr>\n",
       "    <tr>\n",
       "      <th>4</th>\n",
       "      <td>Moeen Ali</td>\n",
       "      <td>b Glenn Phillips</td>\n",
       "    </tr>\n",
       "  </tbody>\n",
       "</table>\n",
       "</div>"
      ],
      "text/plain": [
       "     batsman_name                            dismissal\n",
       "0  Jonny Bairstow  c Daryl Mitchell b Mitchell Santner\n",
       "1     Dawid Malan            c Tom Latham b Matt Henry\n",
       "2        Joe Root                     b Glenn Phillips\n",
       "3     Harry Brook     c Devon Conway b Rachin Ravindra\n",
       "4       Moeen Ali                     b Glenn Phillips"
      ]
     },
     "execution_count": 17,
     "metadata": {},
     "output_type": "execute_result"
    }
   ],
   "source": [
    "# this is wrong\n",
    "# df.loc[:, 'batsman_name', 'dismissal'].head()\n",
    "\n",
    "df.loc[:, ['batsman_name', 'dismissal']].head()"
   ]
  },
  {
   "cell_type": "code",
   "execution_count": 19,
   "id": "d858806f-f727-4bad-b970-06fc3fcf35b4",
   "metadata": {},
   "outputs": [
    {
     "data": {
      "text/html": [
       "<div>\n",
       "<style scoped>\n",
       "    .dataframe tbody tr th:only-of-type {\n",
       "        vertical-align: middle;\n",
       "    }\n",
       "\n",
       "    .dataframe tbody tr th {\n",
       "        vertical-align: top;\n",
       "    }\n",
       "\n",
       "    .dataframe thead th {\n",
       "        text-align: right;\n",
       "    }\n",
       "</style>\n",
       "<table border=\"1\" class=\"dataframe\">\n",
       "  <thead>\n",
       "    <tr style=\"text-align: right;\">\n",
       "      <th></th>\n",
       "      <th>batsman_name</th>\n",
       "      <th>dismissal</th>\n",
       "    </tr>\n",
       "  </thead>\n",
       "  <tbody>\n",
       "    <tr>\n",
       "      <th>1</th>\n",
       "      <td>Dawid Malan</td>\n",
       "      <td>c Tom Latham b Matt Henry</td>\n",
       "    </tr>\n",
       "    <tr>\n",
       "      <th>2</th>\n",
       "      <td>Joe Root</td>\n",
       "      <td>b Glenn Phillips</td>\n",
       "    </tr>\n",
       "    <tr>\n",
       "      <th>3</th>\n",
       "      <td>Harry Brook</td>\n",
       "      <td>c Devon Conway b Rachin Ravindra</td>\n",
       "    </tr>\n",
       "    <tr>\n",
       "      <th>4</th>\n",
       "      <td>Moeen Ali</td>\n",
       "      <td>b Glenn Phillips</td>\n",
       "    </tr>\n",
       "  </tbody>\n",
       "</table>\n",
       "</div>"
      ],
      "text/plain": [
       "  batsman_name                         dismissal\n",
       "1  Dawid Malan         c Tom Latham b Matt Henry\n",
       "2     Joe Root                  b Glenn Phillips\n",
       "3  Harry Brook  c Devon Conway b Rachin Ravindra\n",
       "4    Moeen Ali                  b Glenn Phillips"
      ]
     },
     "execution_count": 19,
     "metadata": {},
     "output_type": "execute_result"
    }
   ],
   "source": [
    "df.loc[1:4, ['batsman_name', 'dismissal']].head() # pass row index"
   ]
  },
  {
   "cell_type": "code",
   "execution_count": 23,
   "id": "4f2efc04-c7ea-4770-946e-5ca00e8025d8",
   "metadata": {},
   "outputs": [
    {
     "data": {
      "text/html": [
       "<div>\n",
       "<style scoped>\n",
       "    .dataframe tbody tr th:only-of-type {\n",
       "        vertical-align: middle;\n",
       "    }\n",
       "\n",
       "    .dataframe tbody tr th {\n",
       "        vertical-align: top;\n",
       "    }\n",
       "\n",
       "    .dataframe thead th {\n",
       "        text-align: right;\n",
       "    }\n",
       "</style>\n",
       "<table border=\"1\" class=\"dataframe\">\n",
       "  <thead>\n",
       "    <tr style=\"text-align: right;\">\n",
       "      <th></th>\n",
       "      <th>match_no</th>\n",
       "      <th>match_between</th>\n",
       "      <th>team_innings</th>\n",
       "      <th>batsman_name</th>\n",
       "      <th>batting_position</th>\n",
       "      <th>dismissal</th>\n",
       "      <th>runs</th>\n",
       "      <th>balls</th>\n",
       "      <th>4s</th>\n",
       "      <th>6s</th>\n",
       "      <th>strike_rate</th>\n",
       "    </tr>\n",
       "  </thead>\n",
       "  <tbody>\n",
       "    <tr>\n",
       "      <th>0</th>\n",
       "      <td>1</td>\n",
       "      <td>England vs New Zealand</td>\n",
       "      <td>England</td>\n",
       "      <td>Jonny Bairstow</td>\n",
       "      <td>1</td>\n",
       "      <td>c Daryl Mitchell b Mitchell Santner</td>\n",
       "      <td>33</td>\n",
       "      <td>35</td>\n",
       "      <td>4</td>\n",
       "      <td>1</td>\n",
       "      <td>94.300</td>\n",
       "    </tr>\n",
       "    <tr>\n",
       "      <th>1</th>\n",
       "      <td>1</td>\n",
       "      <td>England vs New Zealand</td>\n",
       "      <td>England</td>\n",
       "      <td>Dawid Malan</td>\n",
       "      <td>2</td>\n",
       "      <td>c Tom Latham b Matt Henry</td>\n",
       "      <td>14</td>\n",
       "      <td>24</td>\n",
       "      <td>2</td>\n",
       "      <td>0</td>\n",
       "      <td>58.300</td>\n",
       "    </tr>\n",
       "  </tbody>\n",
       "</table>\n",
       "</div>"
      ],
      "text/plain": [
       "   match_no           match_between team_innings    batsman_name  \\\n",
       "0         1  England vs New Zealand      England  Jonny Bairstow   \n",
       "1         1  England vs New Zealand      England     Dawid Malan   \n",
       "\n",
       "   batting_position                            dismissal  runs  balls  4s  6s  \\\n",
       "0                 1  c Daryl Mitchell b Mitchell Santner    33     35   4   1   \n",
       "1                 2            c Tom Latham b Matt Henry    14     24   2   0   \n",
       "\n",
       "  strike_rate  \n",
       "0      94.300  \n",
       "1      58.300  "
      ]
     },
     "execution_count": 23,
     "metadata": {},
     "output_type": "execute_result"
    }
   ],
   "source": [
    "# using .iloc example\n",
    "# df.iloc[row_indexes, column_indexes]\n",
    "\n",
    "df.iloc[:, :].head(2)"
   ]
  },
  {
   "cell_type": "code",
   "execution_count": 26,
   "id": "959bf50d-5492-42cd-b94b-9949f368ac22",
   "metadata": {},
   "outputs": [
    {
     "data": {
      "text/html": [
       "<div>\n",
       "<style scoped>\n",
       "    .dataframe tbody tr th:only-of-type {\n",
       "        vertical-align: middle;\n",
       "    }\n",
       "\n",
       "    .dataframe tbody tr th {\n",
       "        vertical-align: top;\n",
       "    }\n",
       "\n",
       "    .dataframe thead th {\n",
       "        text-align: right;\n",
       "    }\n",
       "</style>\n",
       "<table border=\"1\" class=\"dataframe\">\n",
       "  <thead>\n",
       "    <tr style=\"text-align: right;\">\n",
       "      <th></th>\n",
       "      <th>match_no</th>\n",
       "      <th>match_between</th>\n",
       "    </tr>\n",
       "  </thead>\n",
       "  <tbody>\n",
       "    <tr>\n",
       "      <th>0</th>\n",
       "      <td>1</td>\n",
       "      <td>England vs New Zealand</td>\n",
       "    </tr>\n",
       "    <tr>\n",
       "      <th>1</th>\n",
       "      <td>1</td>\n",
       "      <td>England vs New Zealand</td>\n",
       "    </tr>\n",
       "  </tbody>\n",
       "</table>\n",
       "</div>"
      ],
      "text/plain": [
       "   match_no           match_between\n",
       "0         1  England vs New Zealand\n",
       "1         1  England vs New Zealand"
      ]
     },
     "execution_count": 26,
     "metadata": {},
     "output_type": "execute_result"
    }
   ],
   "source": [
    "df.iloc[:, :2].head(2)"
   ]
  },
  {
   "cell_type": "code",
   "execution_count": 29,
   "id": "4d50c893-bcf1-439b-a600-aa6f10c3a9ac",
   "metadata": {},
   "outputs": [
    {
     "data": {
      "text/html": [
       "<div>\n",
       "<style scoped>\n",
       "    .dataframe tbody tr th:only-of-type {\n",
       "        vertical-align: middle;\n",
       "    }\n",
       "\n",
       "    .dataframe tbody tr th {\n",
       "        vertical-align: top;\n",
       "    }\n",
       "\n",
       "    .dataframe thead th {\n",
       "        text-align: right;\n",
       "    }\n",
       "</style>\n",
       "<table border=\"1\" class=\"dataframe\">\n",
       "  <thead>\n",
       "    <tr style=\"text-align: right;\">\n",
       "      <th></th>\n",
       "      <th>match_no</th>\n",
       "      <th>match_between</th>\n",
       "      <th>team_innings</th>\n",
       "      <th>batsman_name</th>\n",
       "    </tr>\n",
       "  </thead>\n",
       "  <tbody>\n",
       "    <tr>\n",
       "      <th>2</th>\n",
       "      <td>1</td>\n",
       "      <td>England vs New Zealand</td>\n",
       "      <td>England</td>\n",
       "      <td>Joe Root</td>\n",
       "    </tr>\n",
       "  </tbody>\n",
       "</table>\n",
       "</div>"
      ],
      "text/plain": [
       "   match_no           match_between team_innings batsman_name\n",
       "2         1  England vs New Zealand      England     Joe Root"
      ]
     },
     "execution_count": 29,
     "metadata": {},
     "output_type": "execute_result"
    }
   ],
   "source": [
    "df.iloc[2:3, :4].head(2)"
   ]
  },
  {
   "cell_type": "code",
   "execution_count": null,
   "id": "e3d4ad60-3eb8-4708-b58e-a8006b7ff7f7",
   "metadata": {},
   "outputs": [],
   "source": []
  }
 ],
 "metadata": {
  "kernelspec": {
   "display_name": "Python 3 (ipykernel)",
   "language": "python",
   "name": "python3"
  },
  "language_info": {
   "codemirror_mode": {
    "name": "ipython",
    "version": 3
   },
   "file_extension": ".py",
   "mimetype": "text/x-python",
   "name": "python",
   "nbconvert_exporter": "python",
   "pygments_lexer": "ipython3",
   "version": "3.11.6"
  }
 },
 "nbformat": 4,
 "nbformat_minor": 5
}
