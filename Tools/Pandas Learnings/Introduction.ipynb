{
 "cells": [
  {
   "cell_type": "markdown",
   "id": "f09d94eb-b623-45da-b6a5-b25362bac08f",
   "metadata": {},
   "source": [
    "# Pandas\n",
    "\n",
    "Pandas is a powerful open-source data manipulation and analysis library for Python. It provides easy-to-use data structures and functions needed to work with structured data seamlessly. The two primary data structures in Pandas are:\n",
    "\n",
    "Pandas is particularly useful for:\n",
    "- **Data Cleaning**: It provides tools for handling missing data, converting data types, and other data cleaning tasks.\n",
    "- **Data Exploration**: It allows you to explore and analyze data easily, including statistical analysis, aggregation, and summarization.\n",
    "- **Data Manipulation**: Pandas supports operations like merging and joining datasets, reshaping data, and more.\n",
    "- **Data I/O**: It can read and write data in various formats, including CSV, Excel, SQL databases, and more."
   ]
  },
  {
   "cell_type": "code",
   "execution_count": 4,
   "id": "9f78be47-2492-4b08-8bcb-fb6ef6539593",
   "metadata": {},
   "outputs": [
    {
     "data": {
      "text/html": [
       "<div>\n",
       "<style scoped>\n",
       "    .dataframe tbody tr th:only-of-type {\n",
       "        vertical-align: middle;\n",
       "    }\n",
       "\n",
       "    .dataframe tbody tr th {\n",
       "        vertical-align: top;\n",
       "    }\n",
       "\n",
       "    .dataframe thead th {\n",
       "        text-align: right;\n",
       "    }\n",
       "</style>\n",
       "<table border=\"1\" class=\"dataframe\">\n",
       "  <thead>\n",
       "    <tr style=\"text-align: right;\">\n",
       "      <th></th>\n",
       "      <th>Name</th>\n",
       "      <th>Age</th>\n",
       "      <th>City</th>\n",
       "    </tr>\n",
       "  </thead>\n",
       "  <tbody>\n",
       "    <tr>\n",
       "      <th>0</th>\n",
       "      <td>Alice</td>\n",
       "      <td>25</td>\n",
       "      <td>New York</td>\n",
       "    </tr>\n",
       "    <tr>\n",
       "      <th>1</th>\n",
       "      <td>Bob</td>\n",
       "      <td>30</td>\n",
       "      <td>San Francisco</td>\n",
       "    </tr>\n",
       "    <tr>\n",
       "      <th>2</th>\n",
       "      <td>Charlie</td>\n",
       "      <td>35</td>\n",
       "      <td>Los Angeles</td>\n",
       "    </tr>\n",
       "  </tbody>\n",
       "</table>\n",
       "</div>"
      ],
      "text/plain": [
       "      Name  Age           City\n",
       "0    Alice   25       New York\n",
       "1      Bob   30  San Francisco\n",
       "2  Charlie   35    Los Angeles"
      ]
     },
     "execution_count": 4,
     "metadata": {},
     "output_type": "execute_result"
    }
   ],
   "source": [
    "# Basic Example\n",
    "\n",
    "import pandas as pd\n",
    "\n",
    "# Creating a DataFrame\n",
    "data = {'Name': ['Alice', 'Bob', 'Charlie'],\n",
    "        'Age': [25, 30, 35],\n",
    "        'City': ['New York', 'San Francisco', 'Los Angeles']}\n",
    "\n",
    "df = pd.DataFrame(data)\n",
    "\n",
    "# Displaying the DataFrame\n",
    "df"
   ]
  },
  {
   "cell_type": "markdown",
   "id": "9436620e-6f4c-4eaa-84c1-e84ed86f6876",
   "metadata": {},
   "source": [
    "Pandas simplifies many data manipulation tasks, making it a popular choice for data scientists, analysts, and developers working with data in Python."
   ]
  },
  {
   "cell_type": "code",
   "execution_count": null,
   "id": "0a1502ea-deb4-4314-921e-9eadc90283d0",
   "metadata": {},
   "outputs": [],
   "source": []
  },
  {
   "cell_type": "code",
   "execution_count": null,
   "id": "71a6c5bd-e1e9-4170-857d-5fd4e5043115",
   "metadata": {},
   "outputs": [],
   "source": []
  }
 ],
 "metadata": {
  "kernelspec": {
   "display_name": "Python 3 (ipykernel)",
   "language": "python",
   "name": "python3"
  },
  "language_info": {
   "codemirror_mode": {
    "name": "ipython",
    "version": 3
   },
   "file_extension": ".py",
   "mimetype": "text/x-python",
   "name": "python",
   "nbconvert_exporter": "python",
   "pygments_lexer": "ipython3",
   "version": "3.11.6"
  }
 },
 "nbformat": 4,
 "nbformat_minor": 5
}
