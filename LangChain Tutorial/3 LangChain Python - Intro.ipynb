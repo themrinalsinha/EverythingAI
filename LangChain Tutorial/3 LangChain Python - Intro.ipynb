{
 "cells": [
  {
   "cell_type": "markdown",
   "id": "a7c2abb1-97fa-4d34-b9ba-9c601f7fe86d",
   "metadata": {},
   "source": [
    "## LangChain\n",
    "\n",
    "#### Installation\n",
    "- To install base minimum requirement.\n",
    "  ```shell\n",
    "  pip install langchain\n",
    "  ```\n",
    "- A lot of the value of LangChain comes when integrating it with various model providers, datastores, etc. By default, the dependencies needed to do that are NOT installed. However, there are two other ways to install LangChain that do bring in those dependencies.\n",
    "  ```shell\n",
    "  # To install modules needed for the common LLM providers\n",
    "  pip install langchain[llms]\n",
    "\n",
    "  # To install all modules needed for all integrations\n",
    "  pip install langchain[all]\n",
    "  ```"
   ]
  },
  {
   "cell_type": "markdown",
   "id": "06ed1bb8-0a66-43ed-86b5-272676825023",
   "metadata": {},
   "source": [
    "## Quickstart\n",
    "\n",
    "**Environment Setup**\n",
    "Using LangChain will usually require integrations with one or more model providers, data stores, APIs, etc. For this example, we'll use OpenAI's model APIs.\n",
    "```\n",
    "pip install openai\n",
    "```\n",
    "Obtain the API from OpenAI and add it to environment\n",
    "```\n",
    "export OPENAI_API_KEY=\"...\""
   ]
  }
 ],
 "metadata": {
  "kernelspec": {
   "display_name": "Python 3 (ipykernel)",
   "language": "python",
   "name": "python3"
  },
  "language_info": {
   "codemirror_mode": {
    "name": "ipython",
    "version": 3
   },
   "file_extension": ".py",
   "mimetype": "text/x-python",
   "name": "python",
   "nbconvert_exporter": "python",
   "pygments_lexer": "ipython3",
   "version": "3.11.5"
  }
 },
 "nbformat": 4,
 "nbformat_minor": 5
}
