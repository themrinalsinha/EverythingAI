{
 "cells": [
  {
   "cell_type": "markdown",
   "id": "518e718d-c6cd-4802-ab2e-734ff135d884",
   "metadata": {},
   "source": [
    "## LangChain\n",
    "Documentation: https://docs.langchain.com/docs/\n",
    "\n",
    "It is a framework for developing applications powered by LLM (Large Language Models). The most powerful and differentiated applications will not only call to a language model via an API, but will also:\n",
    "- Be data-aware: connect a language model to other sources of data\n",
    "- Be agentic: Allow a language model to interact with its environment\n",
    "\n",
    "There are two main value props the LangChain framework provides:\n",
    "1. **Components**: LangChain provides modular abstractions for the components neccessary to work with language models. LangChain also has collections of implementations for all these abstractions. The components are designed to be easy to use, regardless of whether you are using the rest of the LangChain framework or not.\n",
    "2. **Use-Case specific chains**: Chains can be thought of as assembling these components in particular ways in order to best accomplish a particular use case. These are intended to be a higher level interface through which people can easily get started with a specific use case. These chains are also designed to be customizable."
   ]
  },
  {
   "cell_type": "markdown",
   "id": "7e8ffd7c-e8e9-4820-b433-7ed6564917fa",
   "metadata": {},
   "source": [
    "### Components\n",
    "- Models\n",
    "- Prompts\n",
    "- Indexes\n",
    "- Memory\n",
    "- Chains\n",
    "- Agents\n",
    "\n",
    "We'll first go through some underlying schema abstractions, before diving into the six main components of LangChain."
   ]
  },
  {
   "cell_type": "markdown",
   "id": "ad029bf4-70a1-412f-8f11-08d1ddb43e50",
   "metadata": {},
   "source": [
    "#### Schema\n",
    "The basic data types and schemas that are used throughout the codebase.\n",
    "- **Text**: When working with the LLM, the primary interface through which you can interact with them is through text. As an over simplification, a lot of models are \"text-in\", \"text-out\". Therefore, a lot of the interface in LangChain are centered around text.\n",
    "- **ChatMessages**: The primary interface through with end users interact with these is a chat interface.\n",
    "  - **SystemChatMessage** - A chat message representing information that should be instructions to the AI system.\n",
    "  - **HumanChatMessage** - A chat message representing information coming from a human interacting with the AI system.\n",
    "  - **AIChatMessage** - A chat message representing information coming from the AI system."
   ]
  },
  {
   "cell_type": "markdown",
   "id": "c8052c10-b9fd-4f21-94e3-9152b312c686",
   "metadata": {},
   "source": [
    "#### Models\n",
    "This section of the documentation deals with different types of models that are used in LangChain.\n",
    "- **LLMs** - Large Language Model (LLMs) are the first type of model. These models takes text string as input and return a text string as output.\n",
    "- **ChatModels** - Chat Models are the second type of models we cover. These models are usually backed by a language model, but their APIs are more structured. Specifically, these models take a list of Chat Messages as input, and return a Chat Message."
   ]
  },
  {
   "cell_type": "code",
   "execution_count": null,
   "id": "5aab7e99-abb3-40b8-9754-4c24ba1fc524",
   "metadata": {},
   "outputs": [],
   "source": []
  }
 ],
 "metadata": {
  "kernelspec": {
   "display_name": "Python 3 (ipykernel)",
   "language": "python",
   "name": "python3"
  },
  "language_info": {
   "codemirror_mode": {
    "name": "ipython",
    "version": 3
   },
   "file_extension": ".py",
   "mimetype": "text/x-python",
   "name": "python",
   "nbconvert_exporter": "python",
   "pygments_lexer": "ipython3",
   "version": "3.11.5"
  }
 },
 "nbformat": 4,
 "nbformat_minor": 5
}
